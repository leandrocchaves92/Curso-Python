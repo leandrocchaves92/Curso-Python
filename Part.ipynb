{
 "cells": [
  {
   "cell_type": "markdown",
   "id": "93dc5109",
   "metadata": {},
   "source": [
    "\n",
    "Meu primeiro Code\n"
   ]
  },
  {
   "cell_type": "code",
   "execution_count": 2,
   "id": "36ad2c35",
   "metadata": {},
   "outputs": [
    {
     "name": "stdout",
     "output_type": "stream",
     "text": [
      "123\n"
     ]
    }
   ],
   "source": [
    "print(123)"
   ]
  },
  {
   "cell_type": "code",
   "execution_count": 4,
   "id": "9db3ac74",
   "metadata": {},
   "outputs": [
    {
     "name": "stdout",
     "output_type": "stream",
     "text": [
      "vamos estudar\n"
     ]
    }
   ],
   "source": [
    "print(\"vamos estudar\")"
   ]
  },
  {
   "cell_type": "code",
   "execution_count": 5,
   "id": "7bc1de29",
   "metadata": {},
   "outputs": [
    {
     "name": "stdout",
     "output_type": "stream",
     "text": [
      "2\n"
     ]
    }
   ],
   "source": [
    "print (1+1)"
   ]
  },
  {
   "cell_type": "code",
   "execution_count": 6,
   "id": "beb03168",
   "metadata": {},
   "outputs": [
    {
     "name": "stdout",
     "output_type": "stream",
     "text": [
      "1+1\n"
     ]
    }
   ],
   "source": [
    "print (\"1+1\")"
   ]
  },
  {
   "cell_type": "code",
   "execution_count": 7,
   "id": "30ef42ab",
   "metadata": {},
   "outputs": [
    {
     "name": "stdout",
     "output_type": "stream",
     "text": [
      "6\n"
     ]
    }
   ],
   "source": [
    "print (2 * 3)"
   ]
  },
  {
   "cell_type": "code",
   "execution_count": 8,
   "id": "706321b5",
   "metadata": {},
   "outputs": [
    {
     "name": "stdout",
     "output_type": "stream",
     "text": [
      "8\n"
     ]
    }
   ],
   "source": [
    "print (2 ** 3)"
   ]
  },
  {
   "cell_type": "code",
   "execution_count": 9,
   "id": "bf1baaf0",
   "metadata": {},
   "outputs": [
    {
     "name": "stdout",
     "output_type": "stream",
     "text": [
      "0.6666666666666666\n"
     ]
    }
   ],
   "source": [
    "print (2 / 3)"
   ]
  },
  {
   "cell_type": "code",
   "execution_count": 10,
   "id": "b70dacfb",
   "metadata": {},
   "outputs": [
    {
     "name": "stdout",
     "output_type": "stream",
     "text": [
      "1\n"
     ]
    }
   ],
   "source": [
    "print (7 % 3)"
   ]
  },
  {
   "cell_type": "code",
   "execution_count": null,
   "id": "cf662cc9",
   "metadata": {},
   "outputs": [],
   "source": []
  }
 ],
 "metadata": {
  "kernelspec": {
   "display_name": "Python 3 (ipykernel)",
   "language": "python",
   "name": "python3"
  },
  "language_info": {
   "codemirror_mode": {
    "name": "ipython",
    "version": 3
   },
   "file_extension": ".py",
   "mimetype": "text/x-python",
   "name": "python",
   "nbconvert_exporter": "python",
   "pygments_lexer": "ipython3",
   "version": "3.9.13"
  }
 },
 "nbformat": 4,
 "nbformat_minor": 5
}
