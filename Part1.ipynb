{
 "cells": [
  {
   "cell_type": "code",
   "execution_count": 1,
   "id": "7529518c",
   "metadata": {},
   "outputs": [
    {
     "name": "stdout",
     "output_type": "stream",
     "text": [
      "meu nome é: Leandro\n"
     ]
    }
   ],
   "source": [
    "print ('meu nome é:' + ' Leandro')"
   ]
  },
  {
   "cell_type": "code",
   "execution_count": 3,
   "id": "0734c2e3",
   "metadata": {},
   "outputs": [
    {
     "name": "stdout",
     "output_type": "stream",
     "text": [
      "False\n"
     ]
    }
   ],
   "source": [
    "print ('meu nome é:' in ' Leandro')"
   ]
  },
  {
   "cell_type": "code",
   "execution_count": 5,
   "id": "57f39053",
   "metadata": {},
   "outputs": [
    {
     "name": "stdout",
     "output_type": "stream",
     "text": [
      "Leandro\n",
      "1500\n"
     ]
    }
   ],
   "source": [
    "qtde_vendas = 1500\n",
    "nome = 'Leandro'\n",
    "\n",
    "print (nome)\n",
    "print (qtde_vendas)"
   ]
  },
  {
   "cell_type": "code",
   "execution_count": 6,
   "id": "625e9274",
   "metadata": {},
   "outputs": [
    {
     "name": "stdout",
     "output_type": "stream",
     "text": [
      "Qual é o seu nome?Leandro\n"
     ]
    },
    {
     "data": {
      "text/plain": [
       "'Leandro'"
      ]
     },
     "execution_count": 6,
     "metadata": {},
     "output_type": "execute_result"
    }
   ],
   "source": [
    "input('Qual é o seu nome?')"
   ]
  },
  {
   "cell_type": "markdown",
   "id": "fa6f6a8e",
   "metadata": {},
   "source": []
  },
  {
   "cell_type": "code",
   "execution_count": 7,
   "id": "cc94deef",
   "metadata": {},
   "outputs": [
    {
     "name": "stdout",
     "output_type": "stream",
     "text": [
      "Qual é o seu nome?leandro\n",
      "leandro\n"
     ]
    }
   ],
   "source": [
    "nome = input('Qual é o seu nome?')\n",
    "\n",
    "print(nome)"
   ]
  },
  {
   "cell_type": "code",
   "execution_count": 8,
   "id": "91cac85f",
   "metadata": {},
   "outputs": [
    {
     "name": "stdout",
     "output_type": "stream",
     "text": [
      "Qual é o seu nome?Leandro \n",
      "Qual é o seu sobrenome?chaves\n",
      "Leandro  chaves\n"
     ]
    }
   ],
   "source": [
    "nome = input('Qual é o seu nome?')\n",
    "sobrenome = input ('Qual é o seu sobrenome?')\n",
    "\n",
    "print(nome + ' ' + sobrenome)"
   ]
  },
  {
   "cell_type": "code",
   "execution_count": null,
   "id": "4419de57",
   "metadata": {},
   "outputs": [],
   "source": []
  }
 ],
 "metadata": {
  "kernelspec": {
   "display_name": "Python 3 (ipykernel)",
   "language": "python",
   "name": "python3"
  },
  "language_info": {
   "codemirror_mode": {
    "name": "ipython",
    "version": 3
   },
   "file_extension": ".py",
   "mimetype": "text/x-python",
   "name": "python",
   "nbconvert_exporter": "python",
   "pygments_lexer": "ipython3",
   "version": "3.9.13"
  }
 },
 "nbformat": 4,
 "nbformat_minor": 5
}
