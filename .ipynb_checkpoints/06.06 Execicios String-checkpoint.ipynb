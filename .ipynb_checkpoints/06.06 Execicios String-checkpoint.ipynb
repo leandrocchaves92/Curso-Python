{
 "cells": [
  {
   "cell_type": "code",
   "execution_count": 5,
   "id": "f721318f",
   "metadata": {},
   "outputs": [
    {
     "name": "stdout",
     "output_type": "stream",
     "text": [
      "Insira seu CPF(digite apenas numeros)\n",
      "Digite seu CPF corretamente e digite apenas numeros\n"
     ]
    }
   ],
   "source": [
    "cpf = input ('Insira seu CPF(digite apenas numeros)')\n",
    "\n",
    "if len(cpf) == 11:\n",
    "    print(cpf)\n",
    "else:\n",
    "    print('Digite seu CPF corretamente e digite apenas numeros')"
   ]
  },
  {
   "cell_type": "code",
   "execution_count": 7,
   "id": "9159bdc4",
   "metadata": {},
   "outputs": [
    {
     "name": "stdout",
     "output_type": "stream",
     "text": [
      "Insira seu CPF(digite apenas numeros)32444758846\n",
      "32444758846\n"
     ]
    }
   ],
   "source": [
    "cpf = input ('Insira seu CPF(digite apenas numeros)')\n",
    "\n",
    "if len(cpf) == 11 and cpf.isnumeric:\n",
    "    print(cpf)\n",
    "else:\n",
    "    print('Digite seu CPF corretamente e digite apenas numeros')"
   ]
  },
  {
   "cell_type": "code",
   "execution_count": 9,
   "id": "1628c82e",
   "metadata": {},
   "outputs": [
    {
     "name": "stdout",
     "output_type": "stream",
     "text": [
      "Insira seu CPF 123.456.789-78 \n",
      "12345678978\n"
     ]
    }
   ],
   "source": [
    "cpf = input ('Insira seu CPF')\n",
    "\n",
    "#tratar cpf\n",
    "# tirar espaços no inicio e no final\n",
    "cpf = cpf.strip()\n",
    "# tirar os . (pontos)\n",
    "cpf = cpf.replace('.', '')\n",
    "#tirar os - (traços)\n",
    "cpf = cpf.replace('-', '')\n",
    "\n",
    "if len(cpf) == 11 and cpf.isnumeric:\n",
    "    print(cpf)\n",
    "else:\n",
    "    print('Digite seu CPF corretamente e digite apenas numeros')"
   ]
  },
  {
   "cell_type": "code",
   "execution_count": null,
   "id": "7c8b887a",
   "metadata": {},
   "outputs": [],
   "source": []
  }
 ],
 "metadata": {
  "kernelspec": {
   "display_name": "Python 3 (ipykernel)",
   "language": "python",
   "name": "python3"
  },
  "language_info": {
   "codemirror_mode": {
    "name": "ipython",
    "version": 3
   },
   "file_extension": ".py",
   "mimetype": "text/x-python",
   "name": "python",
   "nbconvert_exporter": "python",
   "pygments_lexer": "ipython3",
   "version": "3.9.13"
  }
 },
 "nbformat": 4,
 "nbformat_minor": 5
}
