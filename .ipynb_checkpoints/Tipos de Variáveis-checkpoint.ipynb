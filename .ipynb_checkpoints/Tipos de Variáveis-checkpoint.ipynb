{
 "cells": [
  {
   "cell_type": "markdown",
   "metadata": {},
   "source": [
    "# Tipos de Variáveis em Python"
   ]
  },
  {
   "cell_type": "markdown",
   "metadata": {},
   "source": [
    "Uma variável é um objeto, afinal tudo é um objeto em Python\n",
    "\n",
    "int -> inteiro<br>\n",
    "string -> texto<br>\n",
    "float -> números com casas decimais (ponto flutuante)<br>\n",
    "bool ou boolean -> True ou False<br>\n",
    "\n",
    "Obs: Variáveis em Python não são declaradas explicitamente, mas isso não significa que você deve ficar mudando o tempo todo\n",
    "\n",
    "Obs2: Cuidado com os nomes restritos (arquivo para Download)"
   ]
  },
  {
   "cell_type": "code",
   "execution_count": 2,
   "metadata": {},
   "outputs": [
    {
     "data": {
      "text/plain": [
       "int"
      ]
     },
     "execution_count": 2,
     "metadata": {},
     "output_type": "execute_result"
    }
   ],
   "source": [
    "faturamento = 1000\n",
    "type(faturamento)"
   ]
  },
  {
   "cell_type": "code",
   "execution_count": 3,
   "metadata": {},
   "outputs": [
    {
     "data": {
      "text/plain": [
       "float"
      ]
     },
     "execution_count": 3,
     "metadata": {},
     "output_type": "execute_result"
    }
   ],
   "source": [
    "faturamento = 1000.00\n",
    "type(faturamento)"
   ]
  },
  {
   "cell_type": "code",
   "execution_count": 4,
   "metadata": {},
   "outputs": [
    {
     "data": {
      "text/plain": [
       "str"
      ]
     },
     "execution_count": 4,
     "metadata": {},
     "output_type": "execute_result"
    }
   ],
   "source": [
    "faturamento = '1.000'\n",
    "type(faturamento)"
   ]
  },
  {
   "cell_type": "code",
   "execution_count": 5,
   "metadata": {},
   "outputs": [
    {
     "data": {
      "text/plain": [
       "bool"
      ]
     },
     "execution_count": 5,
     "metadata": {},
     "output_type": "execute_result"
    }
   ],
   "source": [
    "ganha_bonus = True\n",
    "type(ganha_bonus)"
   ]
  },
  {
   "cell_type": "markdown",
   "metadata": {},
   "source": [
    "*\\\n",
    "Palavra Restrita(não pode nomear variavel) <br>\n",
    "abs <br>\n",
    "all <br>\n",
    "and <br>\n",
    "any <br>\n",
    "as <br>\n",
    "ascii <br>\n",
    "assert <br>\n",
    "bin <br>\n",
    "bool <br>\n",
    "break <br>\n",
    "breakpoint <br>\n",
    "bytearray <br>\n",
    "bytes <br>\n",
    "callable <br>\n",
    "chr <br>\n",
    "class <br>\n",
    "classmethod <br>\n",
    "compile <br>\n",
    "complex <br>\n",
    "continue <br>\n",
    "def <br>\n",
    "del <br>\n",
    "delattr <br>\n",
    "dict <br>\n",
    "dir <br>\n",
    "divmod  <br>\n",
    "elif <br>\n",
    "else <br>\n",
    "enumerate <br>\n",
    "eval <br>\n",
    "except <br>\n",
    "exec <br>\n",
    "False <br>\n",
    "filter <br>\n",
    "finally <br>\n",
    "float <br>\n",
    "for <br>\n",
    "format <br>\n",
    "from <br>\n",
    "frozenset <br>\n",
    "getattr <br>\n",
    "global <br>\n",
    "globals <br>\n",
    "hasattr <br>\n",
    "hash <br>\n",
    "help <br>\n",
    "hex <br>\n",
    "id <br>\n",
    "if <br>\n",
    "import <br>\n",
    "in <br>\n",
    "input <br>\n",
    "int <br>\n",
    "is <br>\n",
    "isinstance <br>\n",
    "issubclass <br>\n",
    "iter <br>\n",
    "lambda <br>\n",
    "len <br>\n",
    "list <br>\n",
    "locals <br>\n",
    "map <br>\n",
    "max <br>\n",
    "memoryview <br>\n",
    "min <br>\n",
    "next <br>\n",
    "None <br>\n",
    "nonlocal <br>\n",
    "not <br>\n",
    "object <br>\n",
    "oct <br>\n",
    "open <br>\n",
    "or <br>\n",
    "ord <br>\n",
    "pass <br>\n",
    "pow <br>\n",
    "print <br>\n",
    "property <br>\n",
    "raise <br>\n",
    "range <br>\n",
    "repr <br>\n",
    "return <br>\n",
    "reversed <br>\n",
    "round <br>\n",
    "set <br>\n",
    "setattr <br>\n",
    "slice <br>\n",
    "sorted <br>\n",
    "staticmethod <br>\n",
    "str <br>\n",
    "sum <br>\n",
    "super <br>\n",
    "True <br>\n",
    "try <br>\n",
    "tuple <br>\n",
    "type <br>\n",
    "vars <br>\n",
    "while <br>\n",
    "with <br>\n",
    "yield <br>\n",
    "zip\\* "
   ]
  },
  {
   "cell_type": "code",
   "execution_count": 10,
   "metadata": {},
   "outputs": [
    {
     "name": "stdout",
     "output_type": "stream",
     "text": [
      "O faturamento da loja foi 1000\n",
      "O custo da loja foi 500\n",
      "Assim o lulcro da loja foi de: 500 reais\n"
     ]
    }
   ],
   "source": [
    "faturamento = 1000\n",
    "custo = 500\n",
    "lucro = faturamento - custo\n",
    "#type(faturamento)\n",
    "#print('O faturamento da loja foi ' + faturamento)\n",
    "print('O faturamento da loja foi ' + str(faturamento))\n",
    "print('O custo da loja foi ' + str(custo))\n",
    "print('Assim o lulcro da loja foi de: ' + str(lucro) + ' reais')"
   ]
  },
  {
   "cell_type": "markdown",
   "metadata": {},
   "source": [
    "## Forma que fizemos (concatenando textos)"
   ]
  },
  {
   "cell_type": "code",
   "execution_count": 12,
   "metadata": {},
   "outputs": [
    {
     "name": "stdout",
     "output_type": "stream",
     "text": [
      "O faturamento da loja foi 2000\n",
      "O custo da loja foi 500\n",
      "Assim o lulcro da loja foi de: 1500 reais\n"
     ]
    }
   ],
   "source": [
    "faturamento = 2000\n",
    "custo = 500\n",
    "lucro = faturamento - custo\n",
    "\n",
    "print('O faturamento da loja foi ' + str(faturamento))\n",
    "print('O custo da loja foi ' + str(custo))\n",
    "print('Assim o lulcro da loja foi de: ' + str(lucro) + ' reais')"
   ]
  },
  {
   "cell_type": "markdown",
   "metadata": {},
   "source": [
    "## Método Format"
   ]
  },
  {
   "cell_type": "code",
   "execution_count": 15,
   "metadata": {},
   "outputs": [
    {
     "name": "stdout",
     "output_type": "stream",
     "text": [
      "O faturamento da loja foi 2000\n"
     ]
    }
   ],
   "source": [
    "faturamento = 2000\n",
    "custo = 500\n",
    "lucro = faturamento - custo\n",
    "\n",
    "print ('O faturamento da loja foi {}'. format(faturamento))"
   ]
  },
  {
   "cell_type": "code",
   "execution_count": 17,
   "metadata": {},
   "outputs": [
    {
     "name": "stdout",
     "output_type": "stream",
     "text": [
      "O faturamento da loja foi 2000. O custo da loja foi 500 . Assim o lucro da loja foi 1500\n"
     ]
    }
   ],
   "source": [
    "faturamento = 2000\n",
    "custo = 500\n",
    "lucro = faturamento - custo\n",
    "\n",
    "print ('O faturamento da loja foi {}. O custo da loja foi {} . Assim o lucro da loja foi {}'.format(faturamento, custo, lucro))"
   ]
  },
  {
   "cell_type": "code",
   "execution_count": null,
   "metadata": {},
   "outputs": [],
   "source": []
  }
 ],
 "metadata": {
  "kernelspec": {
   "display_name": "Python 3 (ipykernel)",
   "language": "python",
   "name": "python3"
  },
  "language_info": {
   "codemirror_mode": {
    "name": "ipython",
    "version": 3
   },
   "file_extension": ".py",
   "mimetype": "text/x-python",
   "name": "python",
   "nbconvert_exporter": "python",
   "pygments_lexer": "ipython3",
   "version": "3.9.13"
  }
 },
 "nbformat": 4,
 "nbformat_minor": 4
}
