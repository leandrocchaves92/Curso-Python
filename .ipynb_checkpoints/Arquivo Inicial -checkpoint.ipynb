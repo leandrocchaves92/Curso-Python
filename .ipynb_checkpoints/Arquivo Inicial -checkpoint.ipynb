{
 "cells": [
  {
   "cell_type": "markdown",
   "metadata": {},
   "source": [
    "# Automação de Sistemas e Processos com Python\n",
    "\n",
    "### ATIVIDADE:\n",
    "\n",
    "Todos os dias, o nosso sistema atualiza as vendas do dia anterior.\n",
    "O seu trabalho diário, como analista, é enviar um e-mail para a diretoria, assim que começar a trabalhar, com o faturamento e a quantidade de produtos vendidos no dia anterior\n",
    "\n",
    "E-mail da diretoria: servicedesk@saocristovao.com.br\n",
    "Local onde o sistema disponibiliza as vendas do dia anterior:<br>\n",
    "c:/???<br>\n",
    "Para resolver isso, vamos usar o pyautogui, uma biblioteca de automação de comandos do mouse e do teclado"
   ]
  },
  {
   "cell_type": "code",
   "execution_count": 16,
   "metadata": {},
   "outputs": [],
   "source": [
    "import pyautogui\n",
    "import pyperclip\n",
    "import time\n",
    "\n",
    "#!pip install pyautogui para instalar a bibliioteca uma unica vez\n",
    "#import pyautogui para importar a biblioteca\n",
    "#import pyperclip para caracteres especiais\n",
    "#pyautogui.click para clicar em alguma coisa\n",
    "#pyautogui.write para escrever alguma coisa\n",
    "#pyautogui.press para aperte uma tecla\n",
    "#pyautogui.hotkey para atalhos de teclado\n",
    "#pyautogui serve para atividades de captura de mouse, teclado e tela.\n",
    "\n",
    "pyautogui.PAUSE = 1\n",
    "\n",
    "#passo 1: Entrar no sistema GLPI (GLPI/)\n",
    "pyautogui.hotkey(\"ctrl\", \"t\")\n",
    "pyautogui.write(\"br.yahoo.com\")\n",
    "#pyautogui.copy(\"site do drive que usou na aula\")\n",
    "#pyautogui.hotkey(\"ctrl\",\"v\")\n",
    "pyautogui.press(\"enter\")\n",
    "\n",
    "time.sleep(5)\n",
    "#passo 2: Navegar até o local do relatorio (entrar na pasta exportar)\n",
    "pyautogui.click(x=1473, y=-937, clicks=1)\n",
    "time.sleep(2)\n",
    "\n",
    "#pasoo 3: Exportar o relatorio (fazer o download)\n",
    "#pyautogui.click(x=0, y=0, button=\"rigth\") para clicar com botaão direito\n",
    "#pyautogui.click(x=0, y=0)\n",
    "#pyautogui.click(x=0, y=0)\n",
    "#time.sleep(5)\n",
    "\n",
    "#passo 4: Calcular os indicadores(quantidade de chamados abertos para o horario)\n",
    "\n",
    "#passo 5: Enviar um e-mail para diretoria \n"
   ]
  },
  {
   "cell_type": "markdown",
   "metadata": {},
   "source": [
    "### Vamos agora ler o arquivo baixado para pegar os indicadores\n",
    "\n",
    "- Faturamento\n",
    "- Quantidade de Produtos"
   ]
  },
  {
   "cell_type": "code",
   "execution_count": null,
   "metadata": {},
   "outputs": [],
   "source": [
    "#passo 4: Calcular os indicadores(quantidade de chamados abertos para o horario)\n",
    "#sempre que passar um caminho de um arquivo no python colocar r(de raw) ex. tabela = pandas.read_excel(r\"D:\\Downloads\\nomearquivo.xlsx\")\n",
    "#import pandas as pd(uma convenção para abreviatura, naõ se faz obrigatorio)\n",
    "#tabela = pandas.read_excel(\"D:\\Downloads\\nomearquivo.xlsx\")\n",
    "#import tabula (biblioteca que converte pdf em pandas)\n",
    "\n",
    "#print(tabela) sem formatação\n",
    "#display(tabela)\n",
    "\n",
    "#faturamento = tabela[\"Valor Final\"].sum() \n",
    "#quantidade = tabela[\"Quantidade\"].sum()\n",
    "#print(faturamento)\n",
    "#print(quantidade)\n"
   ]
  },
  {
   "cell_type": "markdown",
   "metadata": {},
   "source": [
    "### Vamos agora enviar um e-mail pelo webmail"
   ]
  },
  {
   "cell_type": "code",
   "execution_count": 29,
   "metadata": {},
   "outputs": [],
   "source": [
    "#passo 5: Enviar um e-mail para diretoria \n",
    "#abrir aba e entrar no e-mail\n",
    "pyautogui.hotkey(\"ctrl\", \"t\")\n",
    "pyautogui.write(\"br.yahoo.com\")\n",
    "#pyautogui.copy(\"br.yahoo.com\")\n",
    "#pyautogui.hotkey(\"ctrl\",\"v\")\n",
    "pyautogui.press(\"enter\")\n",
    "time.sleep(5)\n",
    "pyautogui.click(x=1473, y=-937, clicks=1)\n",
    "time.sleep(2)\n",
    "#clicar no botao novo e-mail\n",
    "pyautogui.click(x=121, y=-768)\n",
    "#preencher as informações do e-mail\n",
    "#destinatario\n",
    "pyautogui.write(\"wt.leandro.chaves@saocristovao.com.br\")\n",
    "pyautogui.press(\"tab\")\n",
    "pyautogui.write(\"danip.arias@gmail.com\")\n",
    "pyautogui.press(\"tab\")\n",
    "pyautogui.press(\"tab\")\n",
    "#assunto\n",
    "pyperclip.copy(\"Relatório diario\")\n",
    "pyautogui.hotkey(\"ctrl\",\"v\")\n",
    "#pyautogui.write(\"Relatorio diario\")\n",
    "pyautogui.press(\"tab\")\n",
    "\n",
    "#corpo\n",
    "#colocando o \"f\" antes do \"\"\"\"\"\" faz com que o python realize a leitura da variavel {faturamento:,.2f} e {quantidade:,.3f}\n",
    "texto = f\"\"\"\n",
    "Prezados bom dia, a quantidade de chamados até agora foi de : R$ tanto\n",
    "a quantidade de chamados fechados até agora foi de : R$ tanto\n",
    "    \n",
    "    \n",
    "Abs\n",
    "Leandro.chaves\n",
    "---------------\n",
    "Analista de suporte -SD\n",
    "Ramal 7454\"\"\"\n",
    "\n",
    "pyperclip.copy(texto)\n",
    "pyautogui.hotkey(\"ctrl\",\"v\")\n",
    "#pyautogui.write(texto)\n",
    "\n",
    "#enviar e-mail\n",
    "pyautogui.hotkey(\"ctrl\", \"enter\")"
   ]
  },
  {
   "cell_type": "markdown",
   "metadata": {},
   "source": [
    "#### Use esse código para descobrir qual a posição de um item que queira clicar\n",
    "\n",
    "- Lembre-se: a posição na sua tela é diferente da posição na minha tela"
   ]
  },
  {
   "cell_type": "code",
   "execution_count": 17,
   "metadata": {},
   "outputs": [],
   "source": [
    "#para abertura de programas\n",
    "#pyautogui.press(\"win\")\n",
    "#pyautogui.write(\"excel\")\n",
    "#pyautogui.press(\"enter\")"
   ]
  },
  {
   "cell_type": "code",
   "execution_count": 22,
   "metadata": {},
   "outputs": [
    {
     "name": "stdout",
     "output_type": "stream",
     "text": [
      "Point(x=121, y=-768)\n"
     ]
    }
   ],
   "source": [
    "#import time\n",
    "#time.sleep(5)\n",
    "#print (pyautogui.position())"
   ]
  },
  {
   "cell_type": "code",
   "execution_count": null,
   "metadata": {
    "collapsed": true
   },
   "outputs": [],
   "source": [
    "#confirmacao = input(\"podemos continuar?\")"
   ]
  },
  {
   "cell_type": "code",
   "execution_count": 5,
   "metadata": {},
   "outputs": [
    {
     "name": "stdout",
     "output_type": "stream",
     "text": [
      "Requirement already satisfied: pyautogui in d:\\program files\\python\\lib\\site-packages (0.9.53)\n",
      "Requirement already satisfied: pyscreeze>=0.1.21 in d:\\program files\\python\\lib\\site-packages (from pyautogui) (0.1.28)\n",
      "Requirement already satisfied: PyTweening>=1.0.1 in d:\\program files\\python\\lib\\site-packages (from pyautogui) (1.0.4)\n",
      "Requirement already satisfied: pygetwindow>=0.0.5 in d:\\program files\\python\\lib\\site-packages (from pyautogui) (0.0.9)\n",
      "Requirement already satisfied: pymsgbox in d:\\program files\\python\\lib\\site-packages (from pyautogui) (1.0.9)\n",
      "Requirement already satisfied: mouseinfo in d:\\program files\\python\\lib\\site-packages (from pyautogui) (0.1.3)\n",
      "Requirement already satisfied: pyrect in d:\\program files\\python\\lib\\site-packages (from pygetwindow>=0.0.5->pyautogui) (0.2.0)\n",
      "Requirement already satisfied: pyperclip in d:\\program files\\python\\lib\\site-packages (from mouseinfo->pyautogui) (1.8.2)\n"
     ]
    }
   ],
   "source": [
    "!pip install pyautogui"
   ]
  }
 ],
 "metadata": {
  "kernelspec": {
   "display_name": "Python 3 (ipykernel)",
   "language": "python",
   "name": "python3"
  },
  "language_info": {
   "codemirror_mode": {
    "name": "ipython",
    "version": 3
   },
   "file_extension": ".py",
   "mimetype": "text/x-python",
   "name": "python",
   "nbconvert_exporter": "python",
   "pygments_lexer": "ipython3",
   "version": "3.9.13"
  }
 },
 "nbformat": 4,
 "nbformat_minor": 4
}
