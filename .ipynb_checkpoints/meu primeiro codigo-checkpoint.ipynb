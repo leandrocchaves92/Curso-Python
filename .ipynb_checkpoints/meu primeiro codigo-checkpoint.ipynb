{
 "cells": [
  {
   "cell_type": "markdown",
   "id": "fc4cdb60",
   "metadata": {},
   "source": [
    "Texto explicativo de que vou aprender"
   ]
  },
  {
   "cell_type": "code",
   "execution_count": 2,
   "id": "e2653b7a",
   "metadata": {},
   "outputs": [
    {
     "name": "stdout",
     "output_type": "stream",
     "text": [
      "Landro de Carvalho Chaves\n"
     ]
    }
   ],
   "source": [
    "print(\"Leandro de Carvalho Chaves\")"
   ]
  },
  {
   "cell_type": "code",
   "execution_count": 4,
   "id": "c0c09bbc",
   "metadata": {},
   "outputs": [
    {
     "name": "stdout",
     "output_type": "stream",
     "text": [
      "Curso Python\n",
      "foco\n"
     ]
    }
   ],
   "source": [
    "print(\"Curso Python\")\n",
    "print(\"foco\")"
   ]
  }
 ],
 "metadata": {
  "kernelspec": {
   "display_name": "Python 3 (ipykernel)",
   "language": "python",
   "name": "python3"
  },
  "language_info": {
   "codemirror_mode": {
    "name": "ipython",
    "version": 3
   },
   "file_extension": ".py",
   "mimetype": "text/x-python",
   "name": "python",
   "nbconvert_exporter": "python",
   "pygments_lexer": "ipython3",
   "version": "3.9.13"
  }
 },
 "nbformat": 4,
 "nbformat_minor": 5
}
