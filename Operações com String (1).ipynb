{
 "cells": [
  {
   "cell_type": "markdown",
   "metadata": {},
   "source": [
    "# Operações com String\n",
    "\n",
    "str -> transforma número em string<br>\n",
    "in -> verifica se um texto está contido dentro do outro<br>\n",
    "operador + -> concatenar string<br>\n",
    "format e {} -> substitui valores<br>\n",
    "%s -> substitui textos<br>\n",
    "%d -> substitui números decimais<br>\n",
    "\n",
    "Vamos deixar uma cartilha para download"
   ]
  },
  {
   "cell_type": "code",
   "execution_count": 15,
   "metadata": {},
   "outputs": [],
   "source": [
    "faturamento = 12000\n",
    "custo = 500\n",
    "lucro = faturamento - custo"
   ]
  },
  {
   "cell_type": "markdown",
   "metadata": {},
   "source": [
    "Uso do str() e do concatenar com +"
   ]
  },
  {
   "cell_type": "code",
   "execution_count": 3,
   "metadata": {},
   "outputs": [
    {
     "ename": "TypeError",
     "evalue": "can only concatenate str (not \"int\") to str",
     "output_type": "error",
     "traceback": [
      "\u001b[1;31m---------------------------------------------------------------------------\u001b[0m",
      "\u001b[1;31mTypeError\u001b[0m                                 Traceback (most recent call last)",
      "\u001b[1;32m~\\AppData\\Local\\Temp\\ipykernel_10812\\2500951794.py\u001b[0m in \u001b[0;36m<module>\u001b[1;34m\u001b[0m\n\u001b[1;32m----> 1\u001b[1;33m \u001b[0mprint\u001b[0m \u001b[1;33m(\u001b[0m\u001b[1;34m'O faturamento da loja foi de: '\u001b[0m \u001b[1;33m+\u001b[0m \u001b[0mfaturamento\u001b[0m\u001b[1;33m)\u001b[0m\u001b[1;33m\u001b[0m\u001b[1;33m\u001b[0m\u001b[0m\n\u001b[0m",
      "\u001b[1;31mTypeError\u001b[0m: can only concatenate str (not \"int\") to str"
     ]
    }
   ],
   "source": [
    "print ('O faturamento da loja foi de: ' + faturamento)"
   ]
  },
  {
   "cell_type": "code",
   "execution_count": 16,
   "metadata": {},
   "outputs": [
    {
     "name": "stdout",
     "output_type": "stream",
     "text": [
      "O faturamento da loja foi de: 12000 o custo foi de 500 o lucro foi de 11500\n"
     ]
    }
   ],
   "source": [
    "print ('O faturamento da loja foi de: ' + str(faturamento) + ' o custo foi de ' + str(custo) + ' o lucro foi de ' + str(lucro))"
   ]
  },
  {
   "cell_type": "markdown",
   "metadata": {},
   "source": [
    "Uso do Format"
   ]
  },
  {
   "cell_type": "code",
   "execution_count": 21,
   "metadata": {
    "scrolled": true
   },
   "outputs": [
    {
     "name": "stdout",
     "output_type": "stream",
     "text": [
      "O faturamento foi de: 12000 + o custo foi de 500 e o lucro foi de 11500\n"
     ]
    }
   ],
   "source": [
    "print('O faturamento foi de: {} + o custo foi de {} e o lucro foi de {}'. format(faturamento, custo , lucro))"
   ]
  },
  {
   "cell_type": "code",
   "execution_count": 22,
   "metadata": {},
   "outputs": [
    {
     "name": "stdout",
     "output_type": "stream",
     "text": [
      "O faturamento foi de: 12000 + o custo foi de 500 e o lucro foi de 11500. Lembrando, o faturamento foi de 12000 \n"
     ]
    }
   ],
   "source": [
    "print('O faturamento foi de: {0} + o custo foi de {1} e o lucro foi de {2}. Lembrando, o faturamento foi de {0} '. format(faturamento, custo , lucro))"
   ]
  },
  {
   "cell_type": "markdown",
   "metadata": {},
   "source": [
    "Uso do %s e %d"
   ]
  },
  {
   "cell_type": "code",
   "execution_count": 23,
   "metadata": {},
   "outputs": [
    {
     "name": "stdout",
     "output_type": "stream",
     "text": [
      "O faturamento foi de: 12000. O custo de 500 e o faturamento foi de 11500\n"
     ]
    }
   ],
   "source": [
    "print ('O faturamento foi de: %d. O custo de %d e o faturamento foi de %d' % (faturamento, custo, lucro))\n",
    "#%d = string\n",
    "#%s = numero"
   ]
  },
  {
   "cell_type": "markdown",
   "metadata": {},
   "source": [
    "Uso do in (mais exercícios práticos nas próximas aulas)"
   ]
  },
  {
   "cell_type": "code",
   "execution_count": 20,
   "metadata": {},
   "outputs": [
    {
     "name": "stdout",
     "output_type": "stream",
     "text": [
      "True\n",
      "False\n"
     ]
    }
   ],
   "source": [
    "print('@' in 'lira@gmail.com')\n",
    "print('@' in 'lira.gmail.com')"
   ]
  }
 ],
 "metadata": {
  "kernelspec": {
   "display_name": "Python 3 (ipykernel)",
   "language": "python",
   "name": "python3"
  },
  "language_info": {
   "codemirror_mode": {
    "name": "ipython",
    "version": 3
   },
   "file_extension": ".py",
   "mimetype": "text/x-python",
   "name": "python",
   "nbconvert_exporter": "python",
   "pygments_lexer": "ipython3",
   "version": "3.9.13"
  }
 },
 "nbformat": 4,
 "nbformat_minor": 4
}
