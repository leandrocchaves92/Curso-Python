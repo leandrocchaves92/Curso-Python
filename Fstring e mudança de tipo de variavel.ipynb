{
 "cells": [
  {
   "cell_type": "markdown",
   "id": "ca1902ae",
   "metadata": {},
   "source": [
    "### F-string"
   ]
  },
  {
   "cell_type": "code",
   "execution_count": 4,
   "id": "655c87b5",
   "metadata": {},
   "outputs": [
    {
     "name": "stdout",
     "output_type": "stream",
     "text": [
      "O faturamento foi de 1000 e o licro de 600\n",
      "O Faturamento foi de 1000 e o lucro de 600\n"
     ]
    }
   ],
   "source": [
    "faturamento = 1000\n",
    "custo = 400\n",
    "lucro = faturamento - custo\n",
    "\n",
    "# com format    \n",
    "print(\"O faturamento foi de {} e o licro de {}\".format(faturamento, lucro))\n",
    "\n",
    "#com f-string\n",
    "print(f\"O Faturamento foi de {faturamento} e o lucro de {lucro}\")\n"
   ]
  },
  {
   "cell_type": "markdown",
   "id": "5360660f",
   "metadata": {},
   "source": [
    "### Mudança de tipo de variavel"
   ]
  },
  {
   "cell_type": "code",
   "execution_count": 5,
   "id": "841dda12",
   "metadata": {},
   "outputs": [
    {
     "name": "stdout",
     "output_type": "stream",
     "text": [
      "Insira o faturamento1500\n",
      "Insira o custo600\n"
     ]
    },
    {
     "ename": "TypeError",
     "evalue": "unsupported operand type(s) for -: 'str' and 'str'",
     "output_type": "error",
     "traceback": [
      "\u001b[1;31m---------------------------------------------------------------------------\u001b[0m",
      "\u001b[1;31mTypeError\u001b[0m                                 Traceback (most recent call last)",
      "\u001b[1;32m~\\AppData\\Local\\Temp\\ipykernel_1568\\2539924806.py\u001b[0m in \u001b[0;36m<module>\u001b[1;34m\u001b[0m\n\u001b[0;32m      2\u001b[0m \u001b[0mcusto\u001b[0m \u001b[1;33m=\u001b[0m  \u001b[0minput\u001b[0m\u001b[1;33m(\u001b[0m\u001b[1;34m\"Insira o custo\"\u001b[0m\u001b[1;33m)\u001b[0m\u001b[1;33m\u001b[0m\u001b[1;33m\u001b[0m\u001b[0m\n\u001b[0;32m      3\u001b[0m \u001b[1;33m\u001b[0m\u001b[0m\n\u001b[1;32m----> 4\u001b[1;33m \u001b[0mlucro\u001b[0m \u001b[1;33m=\u001b[0m \u001b[0mfaturamento\u001b[0m \u001b[1;33m-\u001b[0m \u001b[0mcusto\u001b[0m\u001b[1;33m\u001b[0m\u001b[1;33m\u001b[0m\u001b[0m\n\u001b[0m\u001b[0;32m      5\u001b[0m \u001b[0mprint\u001b[0m\u001b[1;33m(\u001b[0m\u001b[0mlucro\u001b[0m\u001b[1;33m)\u001b[0m\u001b[1;33m\u001b[0m\u001b[1;33m\u001b[0m\u001b[0m\n\u001b[0;32m      6\u001b[0m \u001b[1;33m\u001b[0m\u001b[0m\n",
      "\u001b[1;31mTypeError\u001b[0m: unsupported operand type(s) for -: 'str' and 'str'"
     ]
    }
   ],
   "source": [
    "faturamento = input(\"Insira o faturamento\")\n",
    "custo =  input(\"Insira o custo\")\n",
    "\n",
    "lucro = faturamento - custo\n",
    "print(lucro)\n",
    "\n",
    "#str -> muda para string\n",
    "#int -> muda para inteiro\n",
    "#float -> muda para float\n"
   ]
  },
  {
   "cell_type": "code",
   "execution_count": 7,
   "id": "b9bdfe75",
   "metadata": {},
   "outputs": [
    {
     "name": "stdout",
     "output_type": "stream",
     "text": [
      "Insira o faturamento1500\n",
      "Insira o custo400\n",
      "<class 'int'>\n",
      "<class 'int'>\n",
      "1100\n"
     ]
    }
   ],
   "source": [
    "faturamento = int(input(\"Insira o faturamento\"))\n",
    "custo =  int(input(\"Insira o custo\"))\n",
    "print (type(faturamento))\n",
    "print (type(custo))\n",
    "lucro = faturamento - custo\n",
    "print(lucro)\n",
    "\n",
    "#str -> muda para string\n",
    "#int -> muda para inteiro\n",
    "#float -> muda para float"
   ]
  },
  {
   "cell_type": "code",
   "execution_count": null,
   "id": "ed66fc60",
   "metadata": {},
   "outputs": [],
   "source": []
  }
 ],
 "metadata": {
  "kernelspec": {
   "display_name": "Python 3 (ipykernel)",
   "language": "python",
   "name": "python3"
  },
  "language_info": {
   "codemirror_mode": {
    "name": "ipython",
    "version": 3
   },
   "file_extension": ".py",
   "mimetype": "text/x-python",
   "name": "python",
   "nbconvert_exporter": "python",
   "pygments_lexer": "ipython3",
   "version": "3.9.13"
  }
 },
 "nbformat": 4,
 "nbformat_minor": 5
}
